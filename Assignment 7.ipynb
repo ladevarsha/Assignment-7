{
 "cells": [
  {
   "cell_type": "code",
   "execution_count": null,
   "id": "886b7a04-465f-457d-a17d-a65fc6ec32d3",
   "metadata": {},
   "outputs": [],
   "source": [
    "1.Create a python program to sirt the given list of tuples based on integer value using a lambda function?\n",
    "    [('Sachin Tendular',34357),('Ricky Pointing',27483),('Jack Kallis',25534),(Virat Kohli',24936)]\n",
    "                                                                               \n",
    "Ans -  \n",
    "      players = [('Sachine Tendular' ,34357), ('Ricky Pointing', 27483),('Jack Kallis', 25534),('Virat Kohli',24936)]\n",
    "      sorted_players = sorted(players, key =lambda x: x[1])\n",
    "      print(sorted_players)                                                                        \n",
    "       "
   ]
  },
  {
   "cell_type": "code",
   "execution_count": null,
   "id": "bf9d71bb-49c2-40e6-98c7-a53ac0778ecb",
   "metadata": {},
   "outputs": [],
   "source": [
    "2.Write a python program to find the squares of all the numbers in the given list of integer using lambda and map functions\n",
    "   \n",
    "    [1,2,3,4,5,6,7,8,9,10]\n",
    "Ans  - \n",
    "        numbers = [1,2,3,4,5,6,7,8,9,10]\n",
    "        squared_numbers = list(map(lambda x : x**2, numbers))\n",
    "        print(squared_numbers)\n",
    "            "
   ]
  },
  {
   "cell_type": "code",
   "execution_count": null,
   "id": "9b1b1a29-fec9-46f5-acfa-711680879325",
   "metadata": {},
   "outputs": [],
   "source": [
    "3.Write a python program to convert the given list integer into a tuple of strings.Use map and Lambda functions\n",
    "      Given string:[1,2,3,4,5,6,7,8,9,10]\n",
    "    Expected output:('1','2','3','4','5','6','7','8','9','10')\n",
    "    \n",
    "Ans-  numbers = [1,2,3,4,5,6,7,8,9,10]\n",
    "      string_numbers =tuple(map(lambda x: str(x), numbers))\n",
    "      print(string_numbers)\n",
    "     "
   ]
  },
  {
   "cell_type": "code",
   "execution_count": null,
   "id": "bd140296-6a67-4343-9165-f81f0e3deb7b",
   "metadata": {},
   "outputs": [],
   "source": [
    "4.Write a program using reduce function to compute the prodyct of a list containing numbers from 1 to 25.\n",
    "\n",
    "Ans -\n",
    "      from funtools import reduce\n",
    "    \n",
    "     numbers = [i for i in range(1, 26)]\n",
    "        product = reduce(lambda x, y: x*y, numbers)\n",
    "        print(product)\n",
    "        "
   ]
  },
  {
   "cell_type": "code",
   "execution_count": null,
   "id": "1c0b7b35-335d-4825-ac07-ac9c2f9479e9",
   "metadata": {},
   "outputs": [],
   "source": [
    "5.Write a python program to filter the number in a given list that are divisible by 2 and 3 using the filter function.\n",
    "\n",
    "[2,3,6,9,27,60,90,120,55,46]\n",
    "\n",
    "Ans -\n",
    "        numbers = [2,3,6,9,27,60,90,120,55,46]\n",
    "        result = list(filter(lambda x: x % 2 == 0 and x % 3 == 0, numbers))\n",
    "        print(results)"
   ]
  },
  {
   "cell_type": "markdown",
   "id": "aad0ce79-456e-4c2e-992c-08e96da7f196",
   "metadata": {},
   "source": [
    "6.Write a program to find palindrome in the given list of string using lambda and filter function.\n",
    "\n",
    "   ['python,'php','aba','radar','level']\n",
    "Ans-\n",
    "      words = ['python','php','aba','radar','level']\n",
    "      results = list(filter(lambda x: x == x[::-1], words))\n",
    "      print(results)"
   ]
  }
 ],
 "metadata": {
  "kernelspec": {
   "display_name": "Python 3 (ipykernel)",
   "language": "python",
   "name": "python3"
  },
  "language_info": {
   "codemirror_mode": {
    "name": "ipython",
    "version": 3
   },
   "file_extension": ".py",
   "mimetype": "text/x-python",
   "name": "python",
   "nbconvert_exporter": "python",
   "pygments_lexer": "ipython3",
   "version": "3.10.8"
  }
 },
 "nbformat": 4,
 "nbformat_minor": 5
}
